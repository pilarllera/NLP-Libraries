{
  "nbformat": 4,
  "nbformat_minor": 0,
  "metadata": {
    "colab": {
      "provenance": []
    },
    "kernelspec": {
      "name": "python3",
      "display_name": "Python 3"
    },
    "accelerator": "TPU",
    "gpuClass": "standard"
  },
  "cells": [
    {
      "cell_type": "markdown",
      "source": [
        "# Cómo obtener datos de entrenamiento\n",
        "\n",
        "Como seguramente habrás pensado al trabajar con el cuaderno anterior, **anotar las entidades contando los caracteres es muy tedioso y corremos el peligro de cometer mucho errores**. Si no encontramos ningún corpus anotado con el tipo de información que nos interesa para nuestro modelo, se presenta ante nosotros la ardua tarea de anotar.\n",
        "\n",
        "Existen **herramientas profesionales** para ello, como **Prodigy** (https://prodi.gy/), que es de pago pero plantea la ventaja de una gran usabilidad e integración con SpaCy, **Universal Data Tool** (https://universaldatatool.com/) o **brat** (https://brat.nlplab.org/).\n",
        "\n",
        "Lo que nos ocurrirá al utilizar cualquiera de ellas será que el **formato de salida de los datos** probablemente **no coincidirá con el formato esperado por el algoritmo de entrenamiento de nuestro modelo**.\n",
        "\n",
        "Vamos a ver con un ejemplo práctico por qué esto no supone un gran problema: una vez que tenemos la información que necesitamos formalizada, **el cambio de formato es una tarea trivial**."
      ],
      "metadata": {
        "id": "AsZ4BDSJEogj"
      }
    },
    {
      "cell_type": "markdown",
      "source": [
        "### Pongamos por caso que los ejemplos que nos interesa anotar son los mismo que en el cuaderno anterior:\n",
        "\n",
        "*¿Cuánto cuesta un cubata?*\n",
        "\n",
        "*¿Cuánto cuesta un vino?*\n",
        "\n",
        "*¿Cuánto cuesta un rioja?*\n",
        "\n",
        "*¿Cuánto cuesta un rueda?*\n",
        "\n",
        "*¿Cuánto cuesta un blanco?*\n",
        "\n",
        "*¿Cuánto cuesta un rosado?*\n",
        "\n",
        "*¿Cuánto cuesta un agua?*\n",
        "\n",
        "*¿Cuánto cuesta un tinto?*\n",
        "\n",
        "*¿Cuánto cuesta un refresco?*\n",
        "\n",
        "*¿Cuánto cuesta un tercio?*\n",
        "\n",
        "*¿Cuánto cuesta una caña?*\n",
        "\n",
        "*¿Cuánto cuesta una doble?*\n",
        "\n",
        "*¿Cuánto cuesta una jarra?*\n",
        "\n",
        "*¿Cuánto cuesta una sin?*\n",
        "\n",
        "*¿Cuánto cuesta una clara?*\n",
        "\n",
        "*¿Cuánto cuesta una sangría?*"
      ],
      "metadata": {
        "id": "XVju9UFbHBVn"
      }
    },
    {
      "cell_type": "markdown",
      "source": [
        "### Vamos a utilizar una herramienta de código abierto que además está disponible como aplicación web:\n",
        "\n",
        "El código está disponible en github (https://github.com/ManivannanMurugavel/spacy-ner-annotator) y el funcionamiento de la aplicación es muy sencillo: debes **subir el fichero de texto** que necesitas anotar a la web (https://manivannanmurugavel.github.io/annotating-tool/spacy-ner-annotator/), **anadir las clases** que te interesa añadir en la parte derecha (en este caso, la clase Bebida) e ir cambiando para cada oración al **modo editable** (pulsando el botón *Save* de la parte superior para que cambie *Edit*) para poder **seleccionar la porción de texto** que debemos anotar y pulsar en el botón con **la clase a la que pertenece**. Una vez anotada cada oración, debemos pulsar en *Next content* para poder anotar la siguiente oración. Cuando hayamos anotado todas las del corpus, una ventana de diálogo nos permitirá **elegir el nombre del fichero de anotaciones para descargar**."
      ],
      "metadata": {
        "id": "wzyP-DK6HOpN"
      }
    },
    {
      "cell_type": "markdown",
      "source": [
        "### Si anotas las oraciones con las mismas entidades del cuaderno anterior, la salida de la aplicación será la siguiente:\n",
        "\n",
        "`[{\"content\":\"¿Cuánto cuesta un cubata?\",\"entities\":[[18,24,\"Bebida\",0,\"rgb(62, 200, 169)\"]]},{\"content\":\"¿Cuánto cuesta un vino?\",\"entities\":[[18,22,\"Bebida\",0,\"rgb(62, 200, 169)\"]]},{\"content\":\"¿Cuánto cuesta un rioja?\",\"entities\":[[18,23,\"Bebida\",0,\"rgb(62, 200, 169)\"]]},{\"content\":\"¿Cuánto cuesta un rueda?\",\"entities\":[[18,23,\"Bebida\",0,\"rgb(62, 200, 169)\"]]},{\"content\":\"¿Cuánto cuesta un blanco?\",\"entities\":[[18,24,\"Bebida\",0,\"rgb(62, 200, 169)\"]]},{\"content\":\"¿Cuánto cuesta un rosado?\",\"entities\":[[18,24,\"Bebida\",0,\"rgb(62, 200, 169)\"]]},{\"content\":\"¿Cuánto cuesta un agua?\",\"entities\":[[18,22,\"Bebida\",0,\"rgb(62, 200, 169)\"]]},{\"content\":\"¿Cuánto cuesta un tinto?\",\"entities\":[[18,23,\"Bebida\",0,\"rgb(62, 200, 169)\"]]},{\"content\":\"¿Cuánto cuesta un refresco?\",\"entities\":[[18,26,\"Bebida\",0,\"rgb(62, 200, 169)\"]]},{\"content\":\"¿Cuánto cuesta un tercio?\",\"entities\":[[18,24,\"Bebida\",0,\"rgb(62, 200, 169)\"]]},{\"content\":\"¿Cuánto cuesta una caña?\",\"entities\":[[19,23,\"Bebida\",0,\"rgb(62, 200, 169)\"]]},{\"content\":\"¿Cuánto cuesta una doble?\",\"entities\":[[19,24,\"Bebida\",0,\"rgb(62, 200, 169)\"]]},{\"content\":\"¿Cuánto cuesta una jarra?\",\"entities\":[[19,24,\"Bebida\",0,\"rgb(62, 200, 169)\"]]},{\"content\":\"¿Cuánto cuesta una sin?\",\"entities\":[[19,22,\"Bebida\",0,\"rgb(62, 200, 169)\"]]},{\"content\":\"¿Cuánto cuesta una clara?\",\"entities\":[[19,24,\"Bebida\",0,\"rgb(62, 200, 169)\"]]},{\"content\":\"¿Cuánto cuesta una sangría\",\"entities\":[[19,26,\"Bebida\",0,\"rgb(62, 200, 169)\"]]}]`"
      ],
      "metadata": {
        "id": "txgr_tBDJZBt"
      }
    },
    {
      "cell_type": "markdown",
      "source": [
        "### Como podrás comprobar, el formato contiene toda la información que espera el algoritmo de entrenamiento de SpaCy, pero en un formato diferente.\n",
        "\n",
        "Con el siguiente script (adaptado del repositorio de los mismo autores de la aplicación: https://github.com/ManivannanMurugavel/spacy-ner-annotator/blob/master/convert_spacy_train_data.py) podremos transformar el formato de datos al esperado para nuestro entrenamiento:"
      ],
      "metadata": {
        "id": "eexCTu_zJqzn"
      }
    },
    {
      "cell_type": "code",
      "source": [
        "salida_app = '[{\"content\":\"¿Cuánto cuesta un cubata?\",\"entities\":[[18,24,\"Bebida\",0,\"rgb(62, 200, 169)\"]]},{\"content\":\"¿Cuánto cuesta un vino?\",\"entities\":[[18,22,\"Bebida\",0,\"rgb(62, 200, 169)\"]]},{\"content\":\"¿Cuánto cuesta un rioja?\",\"entities\":[[18,23,\"Bebida\",0,\"rgb(62, 200, 169)\"]]},{\"content\":\"¿Cuánto cuesta un rueda?\",\"entities\":[[18,23,\"Bebida\",0,\"rgb(62, 200, 169)\"]]},{\"content\":\"¿Cuánto cuesta un blanco?\",\"entities\":[[18,24,\"Bebida\",0,\"rgb(62, 200, 169)\"]]},{\"content\":\"¿Cuánto cuesta un rosado?\",\"entities\":[[18,24,\"Bebida\",0,\"rgb(62, 200, 169)\"]]},{\"content\":\"¿Cuánto cuesta un agua?\",\"entities\":[[18,22,\"Bebida\",0,\"rgb(62, 200, 169)\"]]},{\"content\":\"¿Cuánto cuesta un tinto?\",\"entities\":[[18,23,\"Bebida\",0,\"rgb(62, 200, 169)\"]]},{\"content\":\"¿Cuánto cuesta un refresco?\",\"entities\":[[18,26,\"Bebida\",0,\"rgb(62, 200, 169)\"]]},{\"content\":\"¿Cuánto cuesta un tercio?\",\"entities\":[[18,24,\"Bebida\",0,\"rgb(62, 200, 169)\"]]},{\"content\":\"¿Cuánto cuesta una caña?\",\"entities\":[[19,23,\"Bebida\",0,\"rgb(62, 200, 169)\"]]},{\"content\":\"¿Cuánto cuesta una doble?\",\"entities\":[[19,24,\"Bebida\",0,\"rgb(62, 200, 169)\"]]},{\"content\":\"¿Cuánto cuesta una jarra?\",\"entities\":[[19,24,\"Bebida\",0,\"rgb(62, 200, 169)\"]]},{\"content\":\"¿Cuánto cuesta una sin?\",\"entities\":[[19,22,\"Bebida\",0,\"rgb(62, 200, 169)\"]]},{\"content\":\"¿Cuánto cuesta una clara?\",\"entities\":[[19,24,\"Bebida\",0,\"rgb(62, 200, 169)\"]]},{\"content\":\"¿Cuánto cuesta una sangría\",\"entities\":[[19,26,\"Bebida\",0,\"rgb(62, 200, 169)\"]]}]'"
      ],
      "metadata": {
        "id": "GGfYBeYuKRRI"
      },
      "execution_count": null,
      "outputs": []
    },
    {
      "cell_type": "code",
      "source": [
        "import json\n",
        "\n",
        "def transformar(entrada):\n",
        "\n",
        "  train = json.loads(entrada)\n",
        "\n",
        "  TRAIN_DATA = []\n",
        "  for data in train:\n",
        "    ents = [tuple(entity[:3]) for entity in data['entities']]\n",
        "    TRAIN_DATA.append((data['content'],{'entities':ents}))\n",
        "\n",
        "  return TRAIN_DATA"
      ],
      "metadata": {
        "id": "3uYrG-7GKEvq"
      },
      "execution_count": null,
      "outputs": []
    },
    {
      "cell_type": "code",
      "source": [
        "entrada_spacy = transformar(salida_app)\n",
        "print(entrada_spacy)"
      ],
      "metadata": {
        "colab": {
          "base_uri": "https://localhost:8080/"
        },
        "id": "FXrx8spsM7s8",
        "outputId": "6bf56d2d-f6fc-49aa-ade9-2371958b52b5"
      },
      "execution_count": null,
      "outputs": [
        {
          "output_type": "stream",
          "name": "stdout",
          "text": [
            "[('¿Cuánto cuesta un cubata?', {'entities': [(18, 24, 'Bebida')]}), ('¿Cuánto cuesta un vino?', {'entities': [(18, 22, 'Bebida')]}), ('¿Cuánto cuesta un rioja?', {'entities': [(18, 23, 'Bebida')]}), ('¿Cuánto cuesta un rueda?', {'entities': [(18, 23, 'Bebida')]}), ('¿Cuánto cuesta un blanco?', {'entities': [(18, 24, 'Bebida')]}), ('¿Cuánto cuesta un rosado?', {'entities': [(18, 24, 'Bebida')]}), ('¿Cuánto cuesta un agua?', {'entities': [(18, 22, 'Bebida')]}), ('¿Cuánto cuesta un tinto?', {'entities': [(18, 23, 'Bebida')]}), ('¿Cuánto cuesta un refresco?', {'entities': [(18, 26, 'Bebida')]}), ('¿Cuánto cuesta un tercio?', {'entities': [(18, 24, 'Bebida')]}), ('¿Cuánto cuesta una caña?', {'entities': [(19, 23, 'Bebida')]}), ('¿Cuánto cuesta una doble?', {'entities': [(19, 24, 'Bebida')]}), ('¿Cuánto cuesta una jarra?', {'entities': [(19, 24, 'Bebida')]}), ('¿Cuánto cuesta una sin?', {'entities': [(19, 22, 'Bebida')]}), ('¿Cuánto cuesta una clara?', {'entities': [(19, 24, 'Bebida')]}), ('¿Cuánto cuesta una sangría', {'entities': [(19, 26, 'Bebida')]})]\n"
          ]
        }
      ]
    },
    {
      "cell_type": "markdown",
      "source": [
        "### **Ejercicio**: Anota algún tipo de entidad en un texto corto con la herramienta que acabamos de presentar. Transforma la salida de la herramienta al formato requerido por SpaCy, entrena un NER y comprueba la calidad del análisis automático. Comenta un par de errores del sistema y, opcionalmente, comprueba si incluyendo datos de entrenamiento con contextos similares a los de los errores es posible solventarlos."
      ],
      "metadata": {
        "id": "ma1dtrPCN0Tq"
      }
    },
    {
      "cell_type": "code",
      "source": [
        "salida_app = '[{\"content\":\"Me gusta mucho tu bufanda.\",\"entities\":[[18,25,\"ropa\",0,\"rgb(184, 62, 119)\"]]},{\"content\":\"Con este frío siempre salgo con guantes.\",\"entities\":[[32,39,\"ropa\",0,\"rgb(184, 62, 119)\"]]},{\"content\":\"El abrigo de Lucía es muy largo.\",\"entities\":[[3,9,\"ropa\",0,\"rgb(184, 62, 119)\"]]},{\"content\":\"Si no me pongo un gorro, me muero de frío.\",\"entities\":[[18,23,\"ropa\",0,\"rgb(184, 62, 119)\"]]},{\"content\":\"Tengo que comprar una chaqueta nueva.\",\"entities\":[[22,30,\"ropa\",0,\"rgb(184, 62, 119)\"]]},{\"content\":\"En invierno no salgo de casa sin bufanda.\",\"entities\":[[33,40,\"ropa\",0,\"rgb(184, 62, 119)\"]]},{\"content\":\"Esta chaqueta combina muy bien con esos pantalones.\",\"entities\":[[40,50,\"ropa\",1,\"rgb(184, 62, 119)\"],[5,13,\"ropa\",0,\"rgb(184, 62, 119)\"]]},{\"content\":\"No puedo salir a la calle sin mi bufanda y mis guantes.\",\"entities\":[[47,54,\"ropa\",1,\"rgb(184, 62, 119)\"],[33,40,\"ropa\",0,\"rgb(184, 62, 119)\"]]}]'"
      ],
      "metadata": {
        "id": "MiMNyjbf0hdK"
      },
      "execution_count": 1,
      "outputs": []
    },
    {
      "cell_type": "code",
      "source": [
        "import json\n",
        "\n",
        "def transformar(entrada):\n",
        "\n",
        "  train = json.loads(entrada)\n",
        "\n",
        "  TRAIN_DATA = []\n",
        "  for data in train:\n",
        "    ents = [tuple(entity[:3]) for entity in data['entities']]\n",
        "    TRAIN_DATA.append((data['content'],{'entities':ents}))\n",
        "\n",
        "  return TRAIN_DATA\n",
        "\n",
        "datos_entrenamiento = transformar(salida_app)\n",
        "print(datos_entrenamiento)"
      ],
      "metadata": {
        "colab": {
          "base_uri": "https://localhost:8080/"
        },
        "id": "z2sUrY18VVxj",
        "outputId": "6604d0a3-e174-46c1-ddce-a0710b53d826"
      },
      "execution_count": 4,
      "outputs": [
        {
          "output_type": "stream",
          "name": "stdout",
          "text": [
            "[('Me gusta mucho tu bufanda.', {'entities': [(18, 25, 'ropa')]}), ('Con este frío siempre salgo con guantes.', {'entities': [(32, 39, 'ropa')]}), ('El abrigo de Lucía es muy largo.', {'entities': [(3, 9, 'ropa')]}), ('Si no me pongo un gorro, me muero de frío.', {'entities': [(18, 23, 'ropa')]}), ('Tengo que comprar una chaqueta nueva.', {'entities': [(22, 30, 'ropa')]}), ('En invierno no salgo de casa sin bufanda.', {'entities': [(33, 40, 'ropa')]}), ('Esta chaqueta combina muy bien con esos pantalones.', {'entities': [(40, 50, 'ropa'), (5, 13, 'ropa')]}), ('No puedo salir a la calle sin mi bufanda y mis guantes.', {'entities': [(47, 54, 'ropa'), (33, 40, 'ropa')]})]\n"
          ]
        }
      ]
    },
    {
      "cell_type": "code",
      "source": [
        "import spacy\n",
        "import random\n",
        "from spacy.training.example import Example\n",
        "\n",
        "# Crear una función para entrenar un modelo NER\n",
        "# Requiere dos argumentos:\n",
        "  # Datos: lista de tuplas\n",
        "    # Cada tupla consta de un texto y un diccionario de anotaciones\n",
        "  # Iteraciones: el número de veces que itera para entrenar al modelo\n",
        "\n",
        "def entrenar(datos,iteraciones):\n",
        "  # Copia los datos del entrenamiento en una variable loca\n",
        "    datos_gold = datos\n",
        "\n",
        "    # crear un modelo spacy en blanco para el lenguaje que seleccionemos\n",
        "    # en este caso en español (\"es\")\n",
        "    # esta es la función gemela de spacy.load()\n",
        "    nlp = spacy.blank('es')  # Códigos de lenguas: https://spacy.io/usage/models\n",
        "\n",
        "    # comprueba si no hay un NER existente en el pipe del modelo\n",
        "    # y si no lo hay, lo crea\n",
        "    if 'ner' not in nlp.pipe_names:\n",
        "        ner = nlp.create_pipe('ner')\n",
        "        nlp.add_pipe(\"ner\", last=True)\n",
        "\n",
        "    # se añaden las etiquetas de entidades al componente NER del modelo\n",
        "    for _, anns in datos_gold:\n",
        "         for ent in anns.get('entities'):\n",
        "            ner.add_label(ent[2])\n",
        "\n",
        "    # genera una lista de todos los pipes en el modelo menos \"ner\"\n",
        "    # es decir, elimina NER de la lista\n",
        "    other_pipes = [pipe for pipe in nlp.pipe_names if pipe != 'ner']\n",
        "\n",
        "    # ahora desactiva todas las pipes de la lista que ha creado\n",
        "    # y deja activo solo el pipe de NER\n",
        "    # esto se hace para asegurarse de que solo se entrene el reconocedor de\n",
        "    # entidades y no afecte a otras partes del modelo\n",
        "    with nlp.select_pipes(disable=other_pipes):\n",
        "\n",
        "      # se inicia el entrenamiento\n",
        "        optimizer = nlp.begin_training()\n",
        "\n",
        "        # ciclo de entrenamiento que se repetirá tantas veces como iteraciones hayamos especificado\n",
        "        for n in range(iteraciones):\n",
        "            print(\"Iteración número \" + str(n))\n",
        "\n",
        "            # introducimos un elemento de aleatoriedad\n",
        "            random.shuffle(datos_gold)\n",
        "\n",
        "            # creamos un diccionario vacío para hacer un seguimiento de las pérdidas\n",
        "            losses = {}\n",
        "\n",
        "            # un bucle que recorre todos los textos y anotaciones en\n",
        "            # los datos que le hemos dado para el entrenamiento\n",
        "            for texto, anns in datos_gold:\n",
        "              doc = nlp.make_doc(texto)\n",
        "              # crea un ejemplo de entrenamiento a partir del documento y las anotaciones\n",
        "              ejemplo = Example.from_dict(doc, anns)\n",
        "\n",
        "              # actualiza el modelo NER con el ejemplo, usando el optimizador y las pérdidas\n",
        "              nlp.update(\n",
        "                  [ejemplo],\n",
        "                  drop=0.2,\n",
        "                  sgd=optimizer,\n",
        "                  losses=losses)\n",
        "\n",
        "              # imprime las pérdidas al acabar cada iteración\n",
        "            print(losses)\n",
        "\n",
        "    # devuelve el modelo NER entrenado\n",
        "    return nlp"
      ],
      "metadata": {
        "id": "l2SACDTYWCYf"
      },
      "execution_count": 5,
      "outputs": []
    },
    {
      "cell_type": "code",
      "source": [
        "ner_ropa = entrenar(datos_entrenamiento, 40)\n",
        "ner_ropa.to_disk(\"probando\")"
      ],
      "metadata": {
        "colab": {
          "base_uri": "https://localhost:8080/"
        },
        "id": "SUDS-5_-WpjS",
        "outputId": "2396ac52-7340-4e99-b720-98092a373eff"
      },
      "execution_count": 6,
      "outputs": [
        {
          "output_type": "stream",
          "name": "stdout",
          "text": [
            "Iteración número 0\n",
            "{'ner': 51.000376015901566}\n",
            "Iteración número 1\n",
            "{'ner': 19.752797151828418}\n",
            "Iteración número 2\n",
            "{'ner': 13.491490576443312}\n",
            "Iteración número 3\n",
            "{'ner': 6.464178505144446}\n",
            "Iteración número 4\n",
            "{'ner': 1.541016983956162}\n",
            "Iteración número 5\n",
            "{'ner': 0.10950200767333826}\n",
            "Iteración número 6\n",
            "{'ner': 0.0008794799829719603}\n",
            "Iteración número 7\n",
            "{'ner': 8.90883384005944e-06}\n",
            "Iteración número 8\n",
            "{'ner': 7.651542434704615e-07}\n",
            "Iteración número 9\n",
            "{'ner': 4.337476710784907e-08}\n",
            "Iteración número 10\n",
            "{'ner': 3.0447202576304274e-05}\n",
            "Iteración número 11\n",
            "{'ner': 1.1447637941056512e-08}\n",
            "Iteración número 12\n",
            "{'ner': 8.938709044210813e-10}\n",
            "Iteración número 13\n",
            "{'ner': 4.470833714036566e-08}\n",
            "Iteración número 14\n",
            "{'ner': 4.222877649112439e-09}\n",
            "Iteración número 15\n",
            "{'ner': 1.3033847244099701e-07}\n",
            "Iteración número 16\n",
            "{'ner': 5.0946540860837406e-08}\n",
            "Iteración número 17\n",
            "{'ner': 1.8722313657457546e-09}\n",
            "Iteración número 18\n",
            "{'ner': 3.839144364405876e-08}\n",
            "Iteración número 19\n",
            "{'ner': 6.155015390949577e-10}\n",
            "Iteración número 20\n",
            "{'ner': 2.2417377127356596e-07}\n",
            "Iteración número 21\n",
            "{'ner': 5.888535046956308e-05}\n",
            "Iteración número 22\n",
            "{'ner': 2.7082044837044412e-08}\n",
            "Iteración número 23\n",
            "{'ner': 2.378779523916932e-09}\n",
            "Iteración número 24\n",
            "{'ner': 4.2260830418935146e-08}\n",
            "Iteración número 25\n",
            "{'ner': 7.567407163248352e-06}\n",
            "Iteración número 26\n",
            "{'ner': 1.2266643705742168e-09}\n",
            "Iteración número 27\n",
            "{'ner': 8.887028397142476e-09}\n",
            "Iteración número 28\n",
            "{'ner': 1.664073380470796e-07}\n",
            "Iteración número 29\n",
            "{'ner': 1.3244197833347622e-09}\n",
            "Iteración número 30\n",
            "{'ner': 3.7926465344971747e-05}\n",
            "Iteración número 31\n",
            "{'ner': 2.8115706754621385e-08}\n",
            "Iteración número 32\n",
            "{'ner': 2.2051249117701657e-10}\n",
            "Iteración número 33\n",
            "{'ner': 2.5820217763785507e-06}\n",
            "Iteración número 34\n",
            "{'ner': 9.20429910723815e-11}\n",
            "Iteración número 35\n",
            "{'ner': 5.5502144231590234e-11}\n",
            "Iteración número 36\n",
            "{'ner': 1.3075755673159334e-11}\n",
            "Iteración número 37\n",
            "{'ner': 6.640353780336943e-12}\n",
            "Iteración número 38\n",
            "{'ner': 2.038292937787041e-09}\n",
            "Iteración número 39\n",
            "{'ner': 0.0015284575397211768}\n"
          ]
        }
      ]
    },
    {
      "cell_type": "code",
      "source": [
        "nlp = spacy.load('probando')"
      ],
      "metadata": {
        "id": "nIns9vosW7-J"
      },
      "execution_count": 7,
      "outputs": []
    },
    {
      "cell_type": "code",
      "source": [
        "from spacy import displacy"
      ],
      "metadata": {
        "id": "MPCPRtq0W8mw"
      },
      "execution_count": 8,
      "outputs": []
    },
    {
      "cell_type": "code",
      "source": [
        "doc = nlp(u'No sé si comprarme un gorro o una gorra. Necesito otra falda. Necesito otro abrigo. Fui a la tienda y no tenían los pantalones que quería. ¿Te gusta cómo me queda mi vestido nuevo? Me gusta mucho tu abrigo. Si no me pongo un gorro me muero de frío. Necesito comprarme una bufanda nueva. ¿De dónde es tu abrigo? ¿Cuánto cuesta este gorro? Tengo solo una bufanda pero tengo ocho pares de guantes.')\n",
        "displacy.render(doc, style='ent', jupyter=True)"
      ],
      "metadata": {
        "colab": {
          "base_uri": "https://localhost:8080/",
          "height": 142
        },
        "id": "ZhVNfME4XBm5",
        "outputId": "5b428013-0fb3-407e-de41-25cd9849fc05"
      },
      "execution_count": 17,
      "outputs": [
        {
          "output_type": "display_data",
          "data": {
            "text/plain": [
              "<IPython.core.display.HTML object>"
            ],
            "text/html": [
              "<span class=\"tex2jax_ignore\"><div class=\"entities\" style=\"line-height: 2.5; direction: ltr\">No sé si comprarme un \n",
              "<mark class=\"entity\" style=\"background: #ddd; padding: 0.45em 0.6em; margin: 0 0.25em; line-height: 1; border-radius: 0.35em;\">\n",
              "    gorro\n",
              "    <span style=\"font-size: 0.8em; font-weight: bold; line-height: 1; border-radius: 0.35em; vertical-align: middle; margin-left: 0.5rem\">ropa</span>\n",
              "</mark>\n",
              " o una \n",
              "<mark class=\"entity\" style=\"background: #ddd; padding: 0.45em 0.6em; margin: 0 0.25em; line-height: 1; border-radius: 0.35em;\">\n",
              "    gorra\n",
              "    <span style=\"font-size: 0.8em; font-weight: bold; line-height: 1; border-radius: 0.35em; vertical-align: middle; margin-left: 0.5rem\">ropa</span>\n",
              "</mark>\n",
              ". Necesito otra falda. Necesito otro \n",
              "<mark class=\"entity\" style=\"background: #ddd; padding: 0.45em 0.6em; margin: 0 0.25em; line-height: 1; border-radius: 0.35em;\">\n",
              "    abrigo\n",
              "    <span style=\"font-size: 0.8em; font-weight: bold; line-height: 1; border-radius: 0.35em; vertical-align: middle; margin-left: 0.5rem\">ropa</span>\n",
              "</mark>\n",
              ". Fui a la tienda y no tenían los \n",
              "<mark class=\"entity\" style=\"background: #ddd; padding: 0.45em 0.6em; margin: 0 0.25em; line-height: 1; border-radius: 0.35em;\">\n",
              "    pantalones\n",
              "    <span style=\"font-size: 0.8em; font-weight: bold; line-height: 1; border-radius: 0.35em; vertical-align: middle; margin-left: 0.5rem\">ropa</span>\n",
              "</mark>\n",
              " que quería. ¿Te gusta cómo me queda mi \n",
              "<mark class=\"entity\" style=\"background: #ddd; padding: 0.45em 0.6em; margin: 0 0.25em; line-height: 1; border-radius: 0.35em;\">\n",
              "    vestido\n",
              "    <span style=\"font-size: 0.8em; font-weight: bold; line-height: 1; border-radius: 0.35em; vertical-align: middle; margin-left: 0.5rem\">ropa</span>\n",
              "</mark>\n",
              " nuevo? Me gusta mucho tu \n",
              "<mark class=\"entity\" style=\"background: #ddd; padding: 0.45em 0.6em; margin: 0 0.25em; line-height: 1; border-radius: 0.35em;\">\n",
              "    abrigo\n",
              "    <span style=\"font-size: 0.8em; font-weight: bold; line-height: 1; border-radius: 0.35em; vertical-align: middle; margin-left: 0.5rem\">ropa</span>\n",
              "</mark>\n",
              ". Si no me pongo un \n",
              "<mark class=\"entity\" style=\"background: #ddd; padding: 0.45em 0.6em; margin: 0 0.25em; line-height: 1; border-radius: 0.35em;\">\n",
              "    gorro\n",
              "    <span style=\"font-size: 0.8em; font-weight: bold; line-height: 1; border-radius: 0.35em; vertical-align: middle; margin-left: 0.5rem\">ropa</span>\n",
              "</mark>\n",
              " me muero de frío. Necesito comprarme una \n",
              "<mark class=\"entity\" style=\"background: #ddd; padding: 0.45em 0.6em; margin: 0 0.25em; line-height: 1; border-radius: 0.35em;\">\n",
              "    bufanda\n",
              "    <span style=\"font-size: 0.8em; font-weight: bold; line-height: 1; border-radius: 0.35em; vertical-align: middle; margin-left: 0.5rem\">ropa</span>\n",
              "</mark>\n",
              " nueva. ¿De dónde es tu \n",
              "<mark class=\"entity\" style=\"background: #ddd; padding: 0.45em 0.6em; margin: 0 0.25em; line-height: 1; border-radius: 0.35em;\">\n",
              "    abrigo\n",
              "    <span style=\"font-size: 0.8em; font-weight: bold; line-height: 1; border-radius: 0.35em; vertical-align: middle; margin-left: 0.5rem\">ropa</span>\n",
              "</mark>\n",
              "? ¿Cuánto cuesta este \n",
              "<mark class=\"entity\" style=\"background: #ddd; padding: 0.45em 0.6em; margin: 0 0.25em; line-height: 1; border-radius: 0.35em;\">\n",
              "    gorro\n",
              "    <span style=\"font-size: 0.8em; font-weight: bold; line-height: 1; border-radius: 0.35em; vertical-align: middle; margin-left: 0.5rem\">ropa</span>\n",
              "</mark>\n",
              "? Tengo solo una \n",
              "<mark class=\"entity\" style=\"background: #ddd; padding: 0.45em 0.6em; margin: 0 0.25em; line-height: 1; border-radius: 0.35em;\">\n",
              "    bufanda\n",
              "    <span style=\"font-size: 0.8em; font-weight: bold; line-height: 1; border-radius: 0.35em; vertical-align: middle; margin-left: 0.5rem\">ropa</span>\n",
              "</mark>\n",
              " pero tengo ocho pares de \n",
              "<mark class=\"entity\" style=\"background: #ddd; padding: 0.45em 0.6em; margin: 0 0.25em; line-height: 1; border-radius: 0.35em;\">\n",
              "    guantes\n",
              "    <span style=\"font-size: 0.8em; font-weight: bold; line-height: 1; border-radius: 0.35em; vertical-align: middle; margin-left: 0.5rem\">ropa</span>\n",
              "</mark>\n",
              ".</div></span>"
            ]
          },
          "metadata": {}
        }
      ]
    },
    {
      "cell_type": "markdown",
      "source": [
        "En general, me ha sorprendido lo bien que ha funcionado mi modelo entrenado. Las frases que he usado en el entrenamiento, aunque son solo ocho, he intentado que las entidades aparecieran en posiciones sintácticas diferentes. El único error que me ha dado es en la frase \"Necesito otra falda\". Para mejorar el modelo tendría que añadir más frases en las que aprenda muchos más tipos de prendas de vestir y así podría reconocerla. También esa frase en concreto no tiene nada de contexto, por lo que es normal que no la reconozca. De hecho, en la frase \"Necesito otro abrigo\" lo reconoce sin problemas ya que en las frases de entrenamiento aparece \"abrigo\"."
      ],
      "metadata": {
        "id": "pNonXCZuZaX3"
      }
    }
  ]
}