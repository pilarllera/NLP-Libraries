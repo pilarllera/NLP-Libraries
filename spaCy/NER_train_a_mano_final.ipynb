{
  "nbformat": 4,
  "nbformat_minor": 0,
  "metadata": {
    "colab": {
      "provenance": []
    },
    "kernelspec": {
      "name": "python3",
      "display_name": "Python 3"
    },
    "accelerator": "TPU",
    "gpuClass": "standard"
  },
  "cells": [
    {
      "cell_type": "code",
      "source": [
        "import spacy\n",
        "import random"
      ],
      "metadata": {
        "id": "MYR_2qirg1uX"
      },
      "execution_count": 1,
      "outputs": []
    },
    {
      "cell_type": "markdown",
      "source": [
        "# Creación de datos de entrenamiento:\n",
        "\n",
        "Fíjate en la estructura de datos de la variable *datos_entrenamiento*: es una **lista de tuplas** cuyo primer elemento es una **oración** y cuyo segundo elemento es un **diccionario de anotaciones**. En esta caso, solo tenemos como clave 'entities', ya que vamos a entrenar un **reconocedor de entidades**. Los valores del diccionario se corresponden con listas de tuplas en las que el primer elemento indica la posición del primer caracter de la entidad, el segundo elemento indica la posición del último caracter de la entidad y el tercer elemento indica la clase de la entidad.\n",
        "\n",
        "En un entrenamiento real, los **datos de entrenamiento** deberían ser mucho más **numerosos** y los **contextos de aparición** de las entidades deberían ser más **variados**. Sin embargo, pretendemos aquí simplemente estudiar un ejemplo mínimo de entrenamiento."
      ],
      "metadata": {
        "id": "igQSaUdoA_Ug"
      }
    },
    {
      "cell_type": "code",
      "source": [
        "datos_entrenamiento = [ ('¿Cuánto cuesta un cubata?', {'entities': [(18, 24, 'Bebida')]}),\n",
        "                        ('¿Cuánto cuesta un vino', {'entities': [(18, 22, 'Bebida')]}),\n",
        "                        ('¿Cuánto cuesta un rioja?', {'entities': [(18, 23, 'Bebida')]}),\n",
        "                        ('¿Cuánto cuesta un rueda?', {'entities': [(18, 23, 'Bebida')]}),\n",
        "                        ('¿Cuánto cuesta un blanco?', {'entities': [(18, 24, 'Bebida')]}),\n",
        "                        ('¿Cuánto cuesta un rosado?', {'entities': [(18, 24, 'Bebida')]}),\n",
        "                        ('¿Cuánto cuesta un agua?', {'entities': [(18, 22, 'Bebida')]}),\n",
        "                        ('¿Cuánto cuesta un tinto?', {'entities': [(18, 23, 'Bebida')]}),\n",
        "                        ('¿Cuánto cuesta un refresco?', {'entities': [(18, 26, 'Bebida')]}),\n",
        "                        ('¿Cuánto cuesta un tercio?', {'entities': [(18, 24, 'Bebida')]}),\n",
        "                        ('¿Cuánto cuesta una caña?', {'entities': [(19, 23, 'Bebida')]}),\n",
        "                        ('¿Cuánto cuesta una doble?', {'entities': [(19, 24, 'Bebida')]}),\n",
        "                        ('¿Cuánto cuesta una jarra?', {'entities': [(19, 24, 'Bebida')]}),\n",
        "                        ('¿Cuánto cuesta una sin?', {'entities': [(19, 22, 'Bebida')]}),\n",
        "                        ('¿Cuánto cuesta una clara?', {'entities': [(19, 24, 'Bebida')]}),\n",
        "                        ('¿Cuánto cuesta una sangría?', {'entities': [(19, 26, 'Bebida')]}) ]"
      ],
      "metadata": {
        "id": "NDivOM2xg2Vs"
      },
      "execution_count": 2,
      "outputs": []
    },
    {
      "cell_type": "code",
      "source": [
        "from spacy.training.example import Example"
      ],
      "metadata": {
        "id": "PcnMHIV6jVZw"
      },
      "execution_count": 3,
      "outputs": []
    },
    {
      "cell_type": "markdown",
      "source": [
        "# Comenta la siguiente definición de función.\n",
        "\n",
        "### Debes indicar qué se hace en cada bloque de código. Presta especial atencion a las siguientes funciones:\n",
        "\n",
        "\n",
        "\n",
        "*   spacy.blank: https://spacy.io/api/top-level#spacy.blank\n",
        "*   nlp.select_pipes: https://spacy.io/api/language#select_pipes\n",
        "*   nlp.update: https://spacy.io/api/language/#update"
      ],
      "metadata": {
        "id": "Fe1IXeHN6Fli"
      }
    },
    {
      "cell_type": "code",
      "source": [
        "# Crear una función para entrenar un modelo NER\n",
        "# Requiere dos argumentos:\n",
        "  # Datos: lista de tuplas\n",
        "    # Cada tupla consta de un texto y un diccionario de anotaciones\n",
        "  # Iteraciones: el número de veces que itera para entrenar al modelo\n",
        "\n",
        "def entrenar(datos,iteraciones):\n",
        "  # Copia los datos del entrenamiento en una variable loca\n",
        "    datos_gold = datos\n",
        "\n",
        "    # crear un modelo spacy en blanco para el lenguaje que seleccionemos\n",
        "    # en este caso en español (\"es\")\n",
        "    # esta es la función gemela de spacy.load()\n",
        "    nlp = spacy.blank('es')  # Códigos de lenguas: https://spacy.io/usage/models\n",
        "\n",
        "    # comprueba si no hay un NER existente en el pipe del modelo\n",
        "    # y si no lo hay, lo crea\n",
        "    if 'ner' not in nlp.pipe_names:\n",
        "        ner = nlp.create_pipe('ner')\n",
        "        nlp.add_pipe(\"ner\", last=True)\n",
        "\n",
        "    # se añaden las etiquetas de entidades al componente NER del modelo\n",
        "    for _, anns in datos_gold:\n",
        "         for ent in anns.get('entities'):\n",
        "            ner.add_label(ent[2])\n",
        "\n",
        "    # genera una lista de todos los pipes en el modelo menos \"ner\"\n",
        "    # es decir, elimina NER de la lista\n",
        "    other_pipes = [pipe for pipe in nlp.pipe_names if pipe != 'ner']\n",
        "\n",
        "    # ahora desactiva todas las pipes de la lista que ha creado\n",
        "    # y deja activo solo el pipe de NER\n",
        "    # esto se hace para asegurarse de que solo se entrene el reconocedor de\n",
        "    # entidades y no afecte a otras partes del modelo\n",
        "    with nlp.select_pipes(disable=other_pipes):\n",
        "\n",
        "      # se inicia el entrenamiento\n",
        "        optimizer = nlp.begin_training()\n",
        "\n",
        "        # ciclo de entrenamiento que se repetirá tantas veces como iteraciones hayamos especificado\n",
        "        for n in range(iteraciones):\n",
        "            print(\"Iteración número \" + str(n))\n",
        "\n",
        "            # introducimos un elemento de aleatoriedad\n",
        "            random.shuffle(datos_gold)\n",
        "\n",
        "            # creamos un diccionario vacío para hacer un seguimiento de las pérdidas\n",
        "            losses = {}\n",
        "\n",
        "            # un bucle que recorre todos los textos y anotaciones en\n",
        "            # los datos que le hemos dado para el entrenamiento\n",
        "            for texto, anns in datos_gold:\n",
        "              doc = nlp.make_doc(texto)\n",
        "              # crea un ejemplo de entrenamiento a partir del documento y las anotaciones\n",
        "              ejemplo = Example.from_dict(doc, anns)\n",
        "\n",
        "              # actualiza el modelo NER con el ejemplo, usando el optimizador y las pérdidas\n",
        "              nlp.update(\n",
        "                  [ejemplo],\n",
        "                  drop=0.2,\n",
        "                  sgd=optimizer,\n",
        "                  losses=losses)\n",
        "\n",
        "              # imprime las pérdidas al acabar cada iteración\n",
        "            print(losses)\n",
        "\n",
        "    # devuelve el modelo NER entrenado\n",
        "    return nlp"
      ],
      "metadata": {
        "id": "aU9vTX_eg7Wy"
      },
      "execution_count": 4,
      "outputs": []
    },
    {
      "cell_type": "code",
      "source": [
        "ner_bebidas = entrenar(datos_entrenamiento, 40)\n",
        "ner_bebidas.to_disk(\"probando\")"
      ],
      "metadata": {
        "colab": {
          "base_uri": "https://localhost:8080/"
        },
        "id": "4g8owVcZg9df",
        "outputId": "123038f6-bc09-40ac-9a52-ccb84aebc077"
      },
      "execution_count": 5,
      "outputs": [
        {
          "output_type": "stream",
          "name": "stdout",
          "text": [
            "Iteración número 0\n",
            "{'ner': 46.594733296427876}\n",
            "Iteración número 1\n",
            "{'ner': 6.300818867091676}\n",
            "Iteración número 2\n",
            "{'ner': 0.007398072120864127}\n",
            "Iteración número 3\n",
            "{'ner': 1.803017773940139e-07}\n",
            "Iteración número 4\n",
            "{'ner': 9.25309799089967e-07}\n",
            "Iteración número 5\n",
            "{'ner': 6.55526646021362e-08}\n",
            "Iteración número 6\n",
            "{'ner': 8.602385429892345e-08}\n",
            "Iteración número 7\n",
            "{'ner': 2.8122718750822746e-08}\n",
            "Iteración número 8\n",
            "{'ner': 4.357320643582795e-08}\n",
            "Iteración número 9\n",
            "{'ner': 1.7350040366419008e-06}\n",
            "Iteración número 10\n",
            "{'ner': 1.2314774794700935e-08}\n",
            "Iteración número 11\n",
            "{'ner': 4.8531822580905496e-08}\n",
            "Iteración número 12\n",
            "{'ner': 8.625657339423589e-09}\n",
            "Iteración número 13\n",
            "{'ner': 3.122936138577739e-08}\n",
            "Iteración número 14\n",
            "{'ner': 9.328854877938994e-09}\n",
            "Iteración número 15\n",
            "{'ner': 1.1887086747391858e-06}\n",
            "Iteración número 16\n",
            "{'ner': 5.06816909241418e-09}\n",
            "Iteración número 17\n",
            "{'ner': 1.4211795922625136e-09}\n",
            "Iteración número 18\n",
            "{'ner': 9.488501254399026e-08}\n",
            "Iteración número 19\n",
            "{'ner': 2.4193332409701916e-08}\n",
            "Iteración número 20\n",
            "{'ner': 7.259366723479669e-08}\n",
            "Iteración número 21\n",
            "{'ner': 3.333114321883926e-08}\n",
            "Iteración número 22\n",
            "{'ner': 2.7416374307140264e-09}\n",
            "Iteración número 23\n",
            "{'ner': 1.0915224758319513e-09}\n",
            "Iteración número 24\n",
            "{'ner': 1.7393732006512217e-09}\n",
            "Iteración número 25\n",
            "{'ner': 3.9149727425016485e-09}\n",
            "Iteración número 26\n",
            "{'ner': 7.115741158393196e-10}\n",
            "Iteración número 27\n",
            "{'ner': 7.84489916667829e-09}\n",
            "Iteración número 28\n",
            "{'ner': 2.5704668280074143e-10}\n",
            "Iteración número 29\n",
            "{'ner': 8.048604258756132e-09}\n",
            "Iteración número 30\n",
            "{'ner': 9.022102417636254e-10}\n",
            "Iteración número 31\n",
            "{'ner': 3.1599432478872607e-10}\n",
            "Iteración número 32\n",
            "{'ner': 3.6532506732756115e-09}\n",
            "Iteración número 33\n",
            "{'ner': 8.721255363431709e-10}\n",
            "Iteración número 34\n",
            "{'ner': 8.587426574271169e-09}\n",
            "Iteración número 35\n",
            "{'ner': 4.881985115957665e-09}\n",
            "Iteración número 36\n",
            "{'ner': 5.36109066550339e-10}\n",
            "Iteración número 37\n",
            "{'ner': 1.5967863850297691e-09}\n",
            "Iteración número 38\n",
            "{'ner': 3.84263781714978e-09}\n",
            "Iteración número 39\n",
            "{'ner': 4.914580243731217e-08}\n"
          ]
        }
      ]
    },
    {
      "cell_type": "code",
      "source": [
        "nlp = spacy.load('probando')"
      ],
      "metadata": {
        "id": "Y84QYxgIlID_"
      },
      "execution_count": 6,
      "outputs": []
    },
    {
      "cell_type": "code",
      "source": [
        "from spacy import displacy"
      ],
      "metadata": {
        "id": "WR7FGG9_7jo2"
      },
      "execution_count": 7,
      "outputs": []
    },
    {
      "cell_type": "code",
      "source": [
        "doc = nlp(u'¿Cuánto cuesta un cubata? Me querría tomar un cubata. Los cubatas son algo caros. ¿Cuánto cuestan aquí los cubatas? Eres la caña de España. Me querría tomar una caña.')\n",
        "displacy.render(doc, style='ent', jupyter=True)"
      ],
      "metadata": {
        "colab": {
          "base_uri": "https://localhost:8080/",
          "height": 157
        },
        "id": "r6zbYrmAlMBy",
        "outputId": "26378e41-ec3d-4d0c-ad32-7eaf71f7ee83"
      },
      "execution_count": 8,
      "outputs": [
        {
          "output_type": "display_data",
          "data": {
            "text/plain": [
              "<IPython.core.display.HTML object>"
            ],
            "text/html": [
              "<span class=\"tex2jax_ignore\"><div class=\"entities\" style=\"line-height: 2.5; direction: ltr\">¿Cuánto cuesta un \n",
              "<mark class=\"entity\" style=\"background: #ddd; padding: 0.45em 0.6em; margin: 0 0.25em; line-height: 1; border-radius: 0.35em;\">\n",
              "    cubata\n",
              "    <span style=\"font-size: 0.8em; font-weight: bold; line-height: 1; border-radius: 0.35em; vertical-align: middle; margin-left: 0.5rem\">Bebida</span>\n",
              "</mark>\n",
              "? \n",
              "<mark class=\"entity\" style=\"background: #ddd; padding: 0.45em 0.6em; margin: 0 0.25em; line-height: 1; border-radius: 0.35em;\">\n",
              "    Me\n",
              "    <span style=\"font-size: 0.8em; font-weight: bold; line-height: 1; border-radius: 0.35em; vertical-align: middle; margin-left: 0.5rem\">Bebida</span>\n",
              "</mark>\n",
              " \n",
              "<mark class=\"entity\" style=\"background: #ddd; padding: 0.45em 0.6em; margin: 0 0.25em; line-height: 1; border-radius: 0.35em;\">\n",
              "    querría\n",
              "    <span style=\"font-size: 0.8em; font-weight: bold; line-height: 1; border-radius: 0.35em; vertical-align: middle; margin-left: 0.5rem\">Bebida</span>\n",
              "</mark>\n",
              " tomar un \n",
              "<mark class=\"entity\" style=\"background: #ddd; padding: 0.45em 0.6em; margin: 0 0.25em; line-height: 1; border-radius: 0.35em;\">\n",
              "    cubata\n",
              "    <span style=\"font-size: 0.8em; font-weight: bold; line-height: 1; border-radius: 0.35em; vertical-align: middle; margin-left: 0.5rem\">Bebida</span>\n",
              "</mark>\n",
              ". Los \n",
              "<mark class=\"entity\" style=\"background: #ddd; padding: 0.45em 0.6em; margin: 0 0.25em; line-height: 1; border-radius: 0.35em;\">\n",
              "    cubatas\n",
              "    <span style=\"font-size: 0.8em; font-weight: bold; line-height: 1; border-radius: 0.35em; vertical-align: middle; margin-left: 0.5rem\">Bebida</span>\n",
              "</mark>\n",
              " son algo caros. ¿Cuánto cuestan aquí los \n",
              "<mark class=\"entity\" style=\"background: #ddd; padding: 0.45em 0.6em; margin: 0 0.25em; line-height: 1; border-radius: 0.35em;\">\n",
              "    cubatas\n",
              "    <span style=\"font-size: 0.8em; font-weight: bold; line-height: 1; border-radius: 0.35em; vertical-align: middle; margin-left: 0.5rem\">Bebida</span>\n",
              "</mark>\n",
              "? \n",
              "<mark class=\"entity\" style=\"background: #ddd; padding: 0.45em 0.6em; margin: 0 0.25em; line-height: 1; border-radius: 0.35em;\">\n",
              "    Eres\n",
              "    <span style=\"font-size: 0.8em; font-weight: bold; line-height: 1; border-radius: 0.35em; vertical-align: middle; margin-left: 0.5rem\">Bebida</span>\n",
              "</mark>\n",
              " la \n",
              "<mark class=\"entity\" style=\"background: #ddd; padding: 0.45em 0.6em; margin: 0 0.25em; line-height: 1; border-radius: 0.35em;\">\n",
              "    caña\n",
              "    <span style=\"font-size: 0.8em; font-weight: bold; line-height: 1; border-radius: 0.35em; vertical-align: middle; margin-left: 0.5rem\">Bebida</span>\n",
              "</mark>\n",
              " de \n",
              "<mark class=\"entity\" style=\"background: #ddd; padding: 0.45em 0.6em; margin: 0 0.25em; line-height: 1; border-radius: 0.35em;\">\n",
              "    España\n",
              "    <span style=\"font-size: 0.8em; font-weight: bold; line-height: 1; border-radius: 0.35em; vertical-align: middle; margin-left: 0.5rem\">Bebida</span>\n",
              "</mark>\n",
              ". Me \n",
              "<mark class=\"entity\" style=\"background: #ddd; padding: 0.45em 0.6em; margin: 0 0.25em; line-height: 1; border-radius: 0.35em;\">\n",
              "    querría\n",
              "    <span style=\"font-size: 0.8em; font-weight: bold; line-height: 1; border-radius: 0.35em; vertical-align: middle; margin-left: 0.5rem\">Bebida</span>\n",
              "</mark>\n",
              " tomar una \n",
              "<mark class=\"entity\" style=\"background: #ddd; padding: 0.45em 0.6em; margin: 0 0.25em; line-height: 1; border-radius: 0.35em;\">\n",
              "    caña\n",
              "    <span style=\"font-size: 0.8em; font-weight: bold; line-height: 1; border-radius: 0.35em; vertical-align: middle; margin-left: 0.5rem\">Bebida</span>\n",
              "</mark>\n",
              ".</div></span>"
            ]
          },
          "metadata": {}
        }
      ]
    },
    {
      "cell_type": "markdown",
      "source": [
        "# Pregunta de reflexión\n",
        "\n",
        "Fíjate en lo curioso que es que no aparezca anotado *cubatas* como entidad en la oración *Los cubatas son algo caros*, pero sí en la oración *¿Cuánto cuestan aquí los cubatas?*\n",
        "\n",
        "En este vídeo uno de los fundadores de SpaCy explica **cómo funciona su modelo reconocimiento de entidades**: https://spacy.io/universe/project/video-spacys-ner-model\n",
        "\n",
        "Aún habrá muchas cosas de las que cuenta en el vídeo con las que te pierdas, pero... **Serías capaz de intuir la causa del error en este entrenamiento tan escaso**, ¿verdad?"
      ],
      "metadata": {
        "id": "FmpNEoEy_jbX"
      }
    },
    {
      "cell_type": "markdown",
      "source": [
        "En primer lugar, el error viene de que el modelo de entrenamiento es muy pequeño y además todas sus frases tienen la misma estructura sintáctica. De esta manera, es difícil que el NER pueda reconocer las entidades cuando están en frases con una sintaxis totalmente distinta a la de las frases con las que ha sido entrenado.  "
      ],
      "metadata": {
        "id": "ytUlFXWOB1as"
      }
    }
  ]
}