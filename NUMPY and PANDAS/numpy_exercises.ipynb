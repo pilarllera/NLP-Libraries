{
  "nbformat": 4,
  "nbformat_minor": 0,
  "metadata": {
    "colab": {
      "provenance": []
    },
    "kernelspec": {
      "name": "python3",
      "display_name": "Python 3"
    },
    "language_info": {
      "name": "python"
    }
  },
  "cells": [
    {
      "cell_type": "markdown",
      "source": [
        "1. Crea un array de una única fila con 15 columnas cuyos elementos sean todo unos y guárdalo en una variable."
      ],
      "metadata": {
        "id": "qGdgAcLHAiSl"
      }
    },
    {
      "cell_type": "code",
      "source": [
        "import numpy"
      ],
      "metadata": {
        "id": "c5UPGk_HBJHz"
      },
      "execution_count": 1,
      "outputs": []
    },
    {
      "cell_type": "code",
      "execution_count": null,
      "metadata": {
        "colab": {
          "base_uri": "https://localhost:8080/"
        },
        "id": "rk94tp2NASPb",
        "outputId": "4d454630-0ab1-444f-86c0-9622b9cc6786"
      },
      "outputs": [
        {
          "output_type": "execute_result",
          "data": {
            "text/plain": [
              "array([1, 1, 1, 1, 1, 1, 1, 1, 1, 1, 1, 1, 1, 1, 1])"
            ]
          },
          "metadata": {},
          "execution_count": 11
        }
      ],
      "source": [
        "array1 = numpy.ones((15), dtype = int)\n",
        "array1"
      ]
    },
    {
      "cell_type": "markdown",
      "source": [
        "2. A continuación, modifica los valores de los 10 últimos elementos, a los que debes asignar el valor 5."
      ],
      "metadata": {
        "id": "s5DmDQSfBtHL"
      }
    },
    {
      "cell_type": "code",
      "source": [
        "array1[-10:] = 5\n",
        "array1"
      ],
      "metadata": {
        "colab": {
          "base_uri": "https://localhost:8080/"
        },
        "id": "ODLnR5x1B8A2",
        "outputId": "235e1b62-e918-4aee-a5d7-78bdb17548fe"
      },
      "execution_count": null,
      "outputs": [
        {
          "output_type": "execute_result",
          "data": {
            "text/plain": [
              "array([1, 1, 1, 1, 1, 5, 5, 5, 5, 5, 5, 5, 5, 5, 5])"
            ]
          },
          "metadata": {},
          "execution_count": 12
        }
      ]
    },
    {
      "cell_type": "markdown",
      "source": [
        "3. Finalmente, utiliza la función arrange para modificar el resto de elementos del array para que vayan adquiriendo como valores los múltiplos de  de manera incremental."
      ],
      "metadata": {
        "id": "0fX-dmzlEbyd"
      }
    },
    {
      "cell_type": "code",
      "source": [
        "trocito = array1[0:5]\n",
        "trocito[0]= 7\n",
        "trocito[1:] = numpy.arange(14, 36, 7)\n",
        "array1"
      ],
      "metadata": {
        "colab": {
          "base_uri": "https://localhost:8080/"
        },
        "id": "mmcddZaiEkvG",
        "outputId": "b3bd6148-9d43-47a3-ef27-ee5f7b173447"
      },
      "execution_count": null,
      "outputs": [
        {
          "output_type": "execute_result",
          "data": {
            "text/plain": [
              "array([ 7, 14, 21, 28, 35,  5,  5,  5,  5,  5,  5,  5,  5,  5,  5])"
            ]
          },
          "metadata": {},
          "execution_count": 17
        }
      ]
    },
    {
      "cell_type": "markdown",
      "source": [
        "4. Carga en una variable el array del fichero de texto manipDatosEstruc_actividad1_1.txt del Campus Virtual\n"
      ],
      "metadata": {
        "id": "Y_mSbjZEILYs"
      }
    },
    {
      "cell_type": "code",
      "source": [
        "array2 = numpy.loadtxt(\"/content/manipDatosEstruc_actividad1_1.txt\", dtype=float, delimiter=',')\n",
        "array2"
      ],
      "metadata": {
        "colab": {
          "base_uri": "https://localhost:8080/"
        },
        "id": "37mm2v8gBLFM",
        "outputId": "6515b89f-b393-4230-f88d-a6db8e600f65"
      },
      "execution_count": 3,
      "outputs": [
        {
          "output_type": "execute_result",
          "data": {
            "text/plain": [
              "array([0.52266931, 0.20060662, 0.29290083, 0.80499206, 0.7535142 ,\n",
              "       0.50890023, 0.6370857 , 0.04895814, 0.5992934 , 0.03191176,\n",
              "       0.50051748, 0.46501826, 0.53944828, 0.73162648, 0.65282133,\n",
              "       0.81857564, 0.45498185, 0.78779364, 0.38606455, 0.55803441,\n",
              "       0.67982107, 0.86557797, 0.64690177, 0.48227321, 0.45627267,\n",
              "       0.86186496, 0.60046005, 0.8530146 , 0.72777678, 0.23766215,\n",
              "       0.18755646, 0.32247517, 0.90196779, 0.53693843, 0.28032629,\n",
              "       0.26040698, 0.32143603, 0.84376252, 0.92588614, 0.87223793,\n",
              "       0.10355453, 0.23537035, 0.88608701, 0.1977346 , 0.1275113 ,\n",
              "       0.68570142, 0.99647574, 0.12836516, 0.0676506 , 0.09447244,\n",
              "       0.72840322, 0.25671293, 0.04171931, 0.17948247, 0.91679496,\n",
              "       0.258496  , 0.00734302, 0.39529027, 0.27707908, 0.51952908,\n",
              "       0.40038924, 0.36101664, 0.92429448, 0.62407357, 0.78628573,\n",
              "       0.39049457, 0.78655648, 0.45978434, 0.99278192, 0.87567674,\n",
              "       0.93897748, 0.39401604, 0.36604832, 0.80635351, 0.05665986,\n",
              "       0.13408263, 0.55435037, 0.17780221, 0.64388241, 0.28159215,\n",
              "       0.85259588, 0.49871696, 0.82736171, 0.61412489, 0.25852637,\n",
              "       0.94184994, 0.09351069, 0.49241009, 0.29911292, 0.316216  ,\n",
              "       0.33171808, 0.16330709, 0.42124909, 0.40313386, 0.73727697,\n",
              "       0.91261282, 0.58848056, 0.75564679, 0.97745411, 0.55402065])"
            ]
          },
          "metadata": {},
          "execution_count": 3
        }
      ]
    },
    {
      "cell_type": "markdown",
      "source": [
        "5. Calcula la media de los elementos"
      ],
      "metadata": {
        "id": "SjedtUGHJW8b"
      }
    },
    {
      "cell_type": "code",
      "source": [
        "media = numpy.mean(array2)\n",
        "media"
      ],
      "metadata": {
        "colab": {
          "base_uri": "https://localhost:8080/"
        },
        "id": "fjGEaK5UIZ6K",
        "outputId": "840ac617-d714-41e5-e1a4-76e0b8e2bf91"
      },
      "execution_count": null,
      "outputs": [
        {
          "output_type": "execute_result",
          "data": {
            "text/plain": [
              "0.5125855079"
            ]
          },
          "metadata": {},
          "execution_count": 7
        }
      ]
    },
    {
      "cell_type": "markdown",
      "source": [
        "6. Obtén un array con los elementos superiores o iguales a la media"
      ],
      "metadata": {
        "id": "7GCtXujEJbN1"
      }
    },
    {
      "cell_type": "code",
      "source": [
        "mayores_media = array2[array2 >= media]\n",
        "mayores_media"
      ],
      "metadata": {
        "colab": {
          "base_uri": "https://localhost:8080/"
        },
        "id": "H1nIpcJoJfgT",
        "outputId": "d9ef3158-a83a-4568-8157-ef5b73595dc6"
      },
      "execution_count": null,
      "outputs": [
        {
          "output_type": "execute_result",
          "data": {
            "text/plain": [
              "array([0.52266931, 0.80499206, 0.7535142 , 0.6370857 , 0.5992934 ,\n",
              "       0.53944828, 0.73162648, 0.65282133, 0.81857564, 0.78779364,\n",
              "       0.55803441, 0.67982107, 0.86557797, 0.64690177, 0.86186496,\n",
              "       0.60046005, 0.8530146 , 0.72777678, 0.90196779, 0.53693843,\n",
              "       0.84376252, 0.92588614, 0.87223793, 0.88608701, 0.68570142,\n",
              "       0.99647574, 0.72840322, 0.91679496, 0.51952908, 0.92429448,\n",
              "       0.62407357, 0.78628573, 0.78655648, 0.99278192, 0.87567674,\n",
              "       0.93897748, 0.80635351, 0.55435037, 0.64388241, 0.85259588,\n",
              "       0.82736171, 0.61412489, 0.94184994, 0.73727697, 0.91261282,\n",
              "       0.58848056, 0.75564679, 0.97745411, 0.55402065])"
            ]
          },
          "metadata": {},
          "execution_count": 8
        }
      ]
    },
    {
      "cell_type": "markdown",
      "source": [
        "7. Carga en una variable el array del fichero de texto manipDatosEstruc_Actividad1_2.txt del Campus Virtual. Contiene la media de un alumno en cada uno de los cuatro cursos del grado que ha cursado"
      ],
      "metadata": {
        "id": "xC-AyQfLJ25u"
      }
    },
    {
      "cell_type": "code",
      "source": [
        "notas = numpy.loadtxt(\"/content/manipDatosEstruc_actividad1_2.txt\", dtype=float, delimiter=',')\n",
        "notas"
      ],
      "metadata": {
        "colab": {
          "base_uri": "https://localhost:8080/"
        },
        "id": "3LgJYomwKGdC",
        "outputId": "d0f110e5-bccc-4891-f18b-d3dbff073a2f"
      },
      "execution_count": 4,
      "outputs": [
        {
          "output_type": "execute_result",
          "data": {
            "text/plain": [
              "array([7.2, 5.2, 8.1, 9.4])"
            ]
          },
          "metadata": {},
          "execution_count": 4
        }
      ]
    },
    {
      "cell_type": "markdown",
      "source": [
        "8. Obtén un array que indique los cursos en los que su nota ha sido superior a 7. El resultado debe ser [1,3,4]. Para ello, debes crear un array con los índices de cada curso con la función arange (es decir, el array[1,2,3,4]) y acceder a él mediante un array de booleanos creado anteriormente."
      ],
      "metadata": {
        "id": "-a27AULUKXXs"
      }
    },
    {
      "cell_type": "code",
      "source": [
        "notas_superiores_7 = notas >7\n",
        "indices_cursos = numpy.arange(1, len(notas) + 1)\n",
        "cursos_mas_7 = indices_cursos [notas_superiores_7]\n",
        "cursos_mas_7"
      ],
      "metadata": {
        "colab": {
          "base_uri": "https://localhost:8080/"
        },
        "id": "5YrpoeNMnmq5",
        "outputId": "15db930a-ca1e-4047-d941-a4b4f426fba4"
      },
      "execution_count": 5,
      "outputs": [
        {
          "output_type": "execute_result",
          "data": {
            "text/plain": [
              "array([1, 3, 4])"
            ]
          },
          "metadata": {},
          "execution_count": 5
        }
      ]
    },
    {
      "cell_type": "markdown",
      "source": [
        "9. Obtén un array que indique los cursos en los que su nota ha sido inferior a la media. El resultado debe ser [1,2]. Debes seguir la misma estrategia que en el ejercicio anterior."
      ],
      "metadata": {
        "id": "O52ISxiepZ_H"
      }
    },
    {
      "cell_type": "code",
      "source": [
        "media_cursos = numpy.mean(notas)\n",
        "notas_menores_media = notas < media_cursos\n",
        "cursos_menos_media = indices_cursos[notas_menores_media]\n",
        "cursos_menos_media"
      ],
      "metadata": {
        "colab": {
          "base_uri": "https://localhost:8080/"
        },
        "id": "JoKM_MuAp1Nj",
        "outputId": "49c4b274-dc99-494e-82bc-46912563717b"
      },
      "execution_count": 6,
      "outputs": [
        {
          "output_type": "execute_result",
          "data": {
            "text/plain": [
              "array([1, 2])"
            ]
          },
          "metadata": {},
          "execution_count": 6
        }
      ]
    },
    {
      "cell_type": "markdown",
      "source": [
        "10. Calcula cuál es el curso en el que la media del alumno se aproxima más a la media obtenida en la carrera."
      ],
      "metadata": {
        "id": "HFUXXwUJp9Ku"
      }
    },
    {
      "cell_type": "code",
      "source": [
        "diferencias = numpy.abs(notas - media_cursos)\n",
        "curso_aprox_media = numpy.argmin(diferencias) + 1\n",
        "curso_aprox_media"
      ],
      "metadata": {
        "colab": {
          "base_uri": "https://localhost:8080/"
        },
        "id": "FgOYuayuqIkH",
        "outputId": "2007e7be-cf3e-44d2-9a76-42b0e813f8c0"
      },
      "execution_count": 7,
      "outputs": [
        {
          "output_type": "execute_result",
          "data": {
            "text/plain": [
              "1"
            ]
          },
          "metadata": {},
          "execution_count": 7
        }
      ]
    }
  ]
}