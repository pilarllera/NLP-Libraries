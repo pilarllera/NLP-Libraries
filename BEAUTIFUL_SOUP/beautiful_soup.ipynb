{
  "nbformat": 4,
  "nbformat_minor": 0,
  "metadata": {
    "colab": {
      "provenance": []
    },
    "kernelspec": {
      "name": "python3",
      "display_name": "Python 3"
    },
    "language_info": {
      "name": "python"
    }
  },
  "cells": [
    {
      "cell_type": "code",
      "execution_count": 13,
      "metadata": {
        "colab": {
          "base_uri": "https://localhost:8080/"
        },
        "id": "ts2AVdIRwVw_",
        "outputId": "f1727fae-9118-439b-ccd8-c6f8efa5769a"
      },
      "outputs": [
        {
          "output_type": "stream",
          "name": "stdout",
          "text": [
            "[{'20minutos.es': [('Ultras del Atlético intimidan a una niña y a su madre de raza negra por llevar una camiseta de Vinícius', \"El grupo de aficionados colchoneros se dirigieron contra ambas con gritos de 'Vikingos no' y 'madridistas hijos de puta', mientras las dos aficionadas merengues accedían al estadio. La niña rompió a llorar asustada por la carga de los aficionados rojiblancos antes de que madre e hija pudieran refugiarse dentro del estadio.\")]}, {'inf.utfsm.cl': [('Discurso de recogida del premio Nobel José Saramago [PDF]', 'El hombre más sabio que he conocido en toda mi vida no sabía leer ni escribir. A las cuatro de la madrugada, cuando la promesa de un nuevo día aún venía por tierras de Francia, se levantaba del catre y salía al campo, llevando hasta el pasto la media docena de cerdas de cuya fertilidad se alimentaban él y la mujer. Vivían de esta escasez mis abuelos maternos, de la pequeña cría de cerdos que después del desmame eran vendidos a los vecinos de la aldea. Azinhaga era su nombre, en la provincia del Ribatejo. Se llamaban Jerónimo Melrinho y Josefa.')]}, {'bandaancha.eu': [('Pillan al 11824 haciéndose pasar por atención al cliente de las operadoras y cargar hasta 25€ por llamada', 'La CNMC sanciona con 7.200€ a una empresa que facturó más de medio millón de euros con un 118XX haciéndose pasar por el servicio de atención al cliente de Movistar, Orange, Vodafone y MásMóvil... El método consistía en mantener varias webs en internet bien posicionadas en las búsquedas como \"teléfono Movistar\", \"teléfono Orange\", etc. donde aparece un número geográfico convencional que no despierta ninguna sospecha. Al llamar, una locución indica que hay que llamar al 11824...')]}, {'elplural.com': [('La “rebelión nacional” del PP no consigue juntar en Madrid las 200.000 personas que Ayuso prometió a Feijóo', 'El movimiento “nacional” que pedía el PP se reduce a un mitin más contra Sánchez e insultos al PSOE.'), ('Iconografía franquista en el acto de Feijóo antes de su fracaso en la investidura', 'La Plaza de Felipe II tiene aproximadamente 12.300 metros cuadrados, una cifra casi tres veces menor que la Plaza de España, que cuenta con alrededor de 32.270 m2. A pesar del tamaño, por la Plaza de Felipe II se ha pasado un público similar al de otras concentraciones de la derecha española. Y no podía faltar la iconografía franquista. En el acto del PP se ha podido ver un puesto con artículos de estas características.'), ('Denuncian el \"chiringuito\" de José Manuel Soto con Moreno Bonilla para ir al Rocío', 'Por Andalucía ha llevado a la Oficina Antifraude a la Fundación Destino Rocío, que tiene como principal impulsor al cantante José Manuel Soto. El cantante ha creado una fundación sin casi actividad por la que ha recibido casi 300.000 euros de Moreno Bonilla.')]}, {'youtube.com': [('La Ruina | Atropellado por un camión', 'Hoy en clásicos de La Ruina, Pepiu con la ruina cedida de Alberto y el atropello por camión.')]}, {'as.com': [('Barbaridad histórica de Assefa: revienta el récord mundial', 'La etíope de 26 años destroza la plusmarca universal femenina de maratón con 2h11:53, 131 segundos mejor que la marca que tenía la keniana Kosgei desde 2019.')]}, {'lasprovincias.es': [('La banda de los patinetes golpea el centro de Valencia: robos de relojes de lujo y asaltos a turistas', 'Se desplazan en patinete. Circulan por calles estrechas y peatonales. Se fijan en turistas con aspecto adinerado. Y les asaltan para hacerse con los objetos de más valor que llevan encima. Una banda de jóvenes de origen magrebí mantiene en jaque a la policía en el centro de Valencia. Un vecino de la calle Viana grabó en vídeo su último y violento asalto. El botín, un reloj de la marca Omega valorado en unos 5.000 euros.')]}, {'xataka.com': [('Ya basta de fotocopiar nuestro DNI en todas partes: así pide la AEPD poner fin a esta innecesaria práctica', 'Llegas al hotel y la recepción nos pide nuestro DNI para hacer una copia. Recibes un paquete importante y el repartidor nos pide fotografiar el DNI para registrar a quién se entregó. Pides un duplicado de la SIM y fotocopia del DNI. Una práctica muy extendida, y resulta que no debería ser así. Protección de Datos está en contra de que se pida el DNI por defecto. La Agencia Española de Protección de Datos (AEPD) se ha pronunciado en distintas ocasiones sobre casos en los que se ha solicitado la fotocopia del DNI y bajo su visión era innecesario.')]}, {'twitter.com': [('Un autocar de ALSA adelanta a un camión en línea continua y en plena curva', 'Un bus adelanta a un camión en línea continua y en plena curva'), ('Un jugador del Joventut lanza los tiros libres como se hacía hace medio siglo', 'Chinanu Onuaku, jugador del Joventut de Badalona y número 37 del draft por los Houston Rockets, recupera una técnica en desuso des de los años 70.')]}, {'laicismo.org': [('Datos sobre creencias y religiosidad en España a septiembre 2023', 'Recopilación de los datos del Barómetro del CIS y representación visual en gráficas de la serie estadística correspondiente a la pregunta sobre definiciones en materia religiosa y sus prácticas. Se incluyen series anuales desde 2006 y mensuales desde marzo de 2021. Todos los datos se expresan en porcentajes.')]}, {'viajes.nationalgeographic.com.es': [('Estos son los 50 monumentos y paisajes Patrimonio de la Humanidad de España', 'Con 50 bienes en su haber, España es uno de los países del mundo con más sitios declarados Patrimonio de la Humanidad y ahora te los mostramos todos.')]}, {'torrentfreak.com': [('El torrent activo más antiguo del mundo cumple 20 años [ENG]', 'Hace veinte años, un grupo de amigos rodó una película de fans de Matrix con un presupuesto limitado. Al principio, compartir su creación con el resto del mundo parecía demasiado caro, pero entonces descubrieron una nueva tecnología llamada BitTorrent. Dos décadas después, su \"Fanimatrix\" es el torrent activo más antiguo que se sigue compartiendo.')]}, {'elpais.com': [('Ken Follett: “Si los europeos olvidan lo cabrones retorcidos que podemos ser los británicos, quizás un día volvamos a la UE”', 'El autor de ‘Los pilares de la tierra’ vive en la campiña inglesa, en una casa con un granero, donde da conciertos como bajista de una banda de blues rock, y una librería con sus obras —175 millones de ejemplares vendidos— en 40 idiomas. Lo visitamos antes de la publicación de su nuevo libro, ‘La armadura de la luz’.')]}, {'lrt.lt': [('Misteriosa escritura encontrada en Vilna desconcierta a los arqueólogos (ENG)', 'En el Museo del Palacio de los Grandes Duques de Lituania se exhibe una misteriosa tablilla con una escritura desconocida de los siglos XIII y XIV. Nadie sabe qué significa ni de dónde viene. La tablilla de metal, de diecinueve centímetros de largo, cuatro de ancho y casi medio centímetro de grosor, estaba clavada a una base de madera.')]}, {'businessinsider.es': [('La paradoja española de las vacantes: 7 de cada 10 empresas no encuentran mano de obra en un país con 2,7 millones de parados', 'En Soria hay lugares donde las empresas se dan cabezazos para encontrar trabajadores. \"Conozco el caso de un pueblo de 1.700 habitantes donde necesitan a 100 empleados. No tenemos gente en edad de trabajar porque han emigrado, y los de fuera no quieren venir porque no hay servicios.')]}, {'ctxt.es': [('Reforma laboral en Grecia. (Viñeta)', 'Viñeta de J. R. Mora. Reforma laboral en Grecia. Horas, trabajos.')]}, {'eldiario.es': [('Ir de concierto con informe médico, la última ocurrencia de los festivales para obligar a comprar dentro la comida', 'Son prácticas casi generalizadas y fruto de que, pese a que son ilegales porque vulneran distintas normativas, las administraciones no actúan. Y cuando lo hacen son cuantías ridículas”, cuenta Rubén Sánchez, portavoz de Facua. “Eso implica que no solo se vulnera la ley del consumidor porque no te permitan entrar con comida, también se vulnera la ley de protección de datos por reclamarte esa documentación médica, porque [todo lo relativo a la salud] son datos protegidos. Y eso ya lo sanciona la Agencia Española de Protección de Datos...\".')]}, {'autobild.es': [('La gasolina disparada… y todos callados sin protestar', 'Diez semanas seguidas de subidas y precios en máximos históricos de 2023. No te hablo de inmuebles o del aceite de oliva (que también podría ser). Te hablo del nuevo oro, de la gasolina, porque a este paso va a ser un bien más preciado que el mismísimo elemento dorado. Y lo peor de todo es que ya nos hemos acostumbrado, ya parecemos anestesiados y ya entramos a la gasolinera asumiendo pagar el litro de gasolina sin plomo 95 a 1,8 euros.')]}, {'theguardian.com': [(\"'El capitalismo está muerto.  Ahora tenemos algo mucho peor’: Yanis Varoufakis sobre el extremismo, Starmer y la tiranía de las grandes tecnologías [ENG]\", 'En su nuevo libro, Tecnofeudalismo, Yanis Varoufakis, el inconformista economista griego, dice que estamos siendo testigos de un cambio de época.  En su isla natal de Egina, sostiene que ya no es el sistema financiero global el que nos moldea, sino los “feudos” de las empresas tecnológicas.')]}, {'cadenaser.com': [('Muere un hombre tras recibir una cogida en los bous al carrer de la Pobla de Farnals (Valencia)', 'Un hombre ha fallecido tras recibir una cogida por asta de toro durante los bous al carrer de la Pobla de Farnals, en la provincia de Valencia. La cogida se produjo este sábado por la tarde y hubo dos personas afectadas, que fueron trasladadas al hospital Clínico de València.')]}, {'fusernews.com': [('Parlamento canadiense ovaciona a ucraniano que luchó con los nazis', 'Yaroslav Hunka luchó con la 14ª división de las Waffen SS \"Galizien\" (Galicia), formación militar confirmada en 1943 con voluntarios de la región de Galicia con origen ucraniano, que luego incorporó voluntarios y oficiales eslovacos, checos y holandeses\",')]}, {'threadreaderapp.com': [('Turiel : \"En el 2015-16, El Niño fue un escalón. Perturbó el sistema climático, pero nunca se disipó.\"', 'El último El Niño fue el de 2015-16. Normalmente, El Niño es un solitón. Es decir, una onda solitaria. Como la percursión en la membrana de un tambor: gran golpe inicial que se propaga a lo largo de un año por todo el planeta y que tal como vino desaparece. Pero en el 15-16 no. En el 2015-16, El Niño fue un escalón. Perturbó el sistema climático, pero nunca se disipó. Ya no volvimos al estado anterior. Pasamos a un nuevo estado. Subimos un peldaño en lo que sea esta escalera que estamos subiendo hacia un clima diferente.')]}, {'pixartprinting.es': [('Maestros del cómic: Jiro Taniguchi', 'Vida y obra de Jiro Taniguchi, autor que combinó el estilo y las influencias occidentales con el cómic japonés. Jiro Taniguchi nació en el sur de Japón, en Tottori, en el año 1947. Fue uno de los dibujantes de cómics más importantes de la historia. Se lo consideraba el poeta del manga por su estilo sosegado, preciso en el dibujo y excelso en el plano narrativo. (Los años 70 y el debut/ Los años 80 y su primera obra como autor/Los años 90 y El caminante/ Los años 2000 y y los cómics europeos/El Legado de Jiro Taniguchi)')]}, {'jotdown.es': [('Odiado lector: anecdotario del desprecio al leyente', 'De Ray Bradbury se decía que era un tipo muy dedicado con los fans. Él mismo describió con muchísima ternura su encuentro con un joven lector muy preocupado por la veracidad científica en las ficciones del escritor: «Un niño horrible se me acercó y me dijo «Sobre tu libro Crónicas marcianas…», le dije «¿Sí?», y me preguntó «¿Recuerdas cómo explicas que el satélite Deimos se alza por el este?». Y le dije «¿Sí?». Y me contestó: «Pues no». Así que le pegué». Es probable que Bradbury estuviera de coña y que fuera menos arisco de lo que pretendía...')]}, {'infobae.com': [('Una militar atropella a un sindicalista durante un piquete en Navantia Ferrol', 'Un delegado sindical ha sido atropellado este sábado por una militar que pretendía acceder al astillero de Navantia Ferrol, han confirmado a EFE testigos del suceso. Desde hace unos días en la entrada principal del astillero permanecen piquetes informativos ante el incumplimiento de convenios colectivos por parte de empresas auxiliares.')]}, {'huffingtonpost.fr': [('Nuestros pedos huelen mal debido a esta bacteria, pero es lo que nos protege [FRA]', 'Algo nuevo. En un estudio publicado en la revista Nature Communications, un equipo de investigadores de la Universidad de Viena acaba de demostrar la existencia de una nueva bacteria que vive en nuestros intestinos. Esta bacteria es una fábrica de malos olores, y lo peor es que tenemos que agradecérselo. La Taurinivorans muris, que así se llama nuestra inquilina, tiene una dieta muy particular. Como su nombre indica, consume taurina, y exclusivamente taurina. Las virtudes de este aminoácido lo convierten en un componente esencial.')]}]\n"
          ]
        },
        {
          "output_type": "stream",
          "name": "stderr",
          "text": [
            "<ipython-input-13-327525d8e796>:32: MarkupResemblesLocatorWarning: The input looks more like a filename than markup. You may want to open this file and pass the filehandle into Beautiful Soup.\n",
            "  descendiente = BeautifulSoup(text, 'html.parser')\n"
          ]
        }
      ],
      "source": [
        "from bs4 import BeautifulSoup\n",
        "\n",
        "from bs4 import NavigableString, Tag\n",
        "\n",
        "import requests\n",
        "\n",
        "# creamos una variable con la url que nos interesa\n",
        "url = \"https://www.meneame.net/\"\n",
        "# añadimos la cabecera con los datos de nuestro navegador\n",
        "headers = {\"User-Agent\": \"Mozilla/5.0 (Macintosh; Intel Mac OS X 10_15_7) AppleWebKit/537.36 (KHTML, like Gecko) Chrome/116.0.0.0 Safari/537.36\"}\n",
        "\n",
        "# usamos la función get del paquete request para obtener el contenido del html\n",
        "# strip() nos quita los espacios innecesarios que pueda haber\n",
        "response = requests.get(url.strip(),headers =headers)\n",
        "\n",
        "# creamos la variable soup y ya podremos trabajar con las herramientas de Beautiful Soup en el texto de la URL.\n",
        "soup = BeautifulSoup(response.text, 'html.parser')\n",
        "\n",
        "from bs4 import NavigableString, Tag\n",
        "\n",
        "datos_noticias=dict()\n",
        "\n",
        "for etiqueta_body in soup.body.children:\n",
        "  if isinstance(etiqueta_body, NavigableString):\n",
        "    text = etiqueta_body.strip()\n",
        "    etiqueta_body = BeautifulSoup(text, 'html.parser')\n",
        "\n",
        "  if etiqueta_body.name == 'div':\n",
        "    for descendiente in etiqueta_body.descendants:\n",
        "      if isinstance(descendiente, NavigableString):\n",
        "        text = descendiente.strip()\n",
        "        descendiente = BeautifulSoup(text, 'html.parser')\n",
        "\n",
        "      if descendiente.name == 'h2':\n",
        "        titular = descendiente.text.strip()\n",
        "        padre_h2 = descendiente.parent\n",
        "        periodico = padre_h2.find_next_sibling()\n",
        "        if periodico is None:\n",
        "          periodico_text = \"desconocido\"\n",
        "          resumen_text= \"desconocido\"\n",
        "        else:\n",
        "          periodico_text = periodico.text.strip()\n",
        "          resumen = periodico.find_next_sibling()\n",
        "          if resumen is None:\n",
        "            resumen_text = \"desconocido\"\n",
        "          else:\n",
        "            resumen_text = resumen.text.strip()\n",
        "\n",
        "        if periodico_text not in datos_noticias:\n",
        "          datos_noticias[periodico_text] = [(titular, resumen_text)]\n",
        "        else:\n",
        "          datos_noticias[periodico_text].append((titular,resumen_text))\n",
        "\n",
        "# Después de completar el procesamiento anterior y tener datos_noticias lleno:\n",
        "\n",
        "# Crear una lista para almacenar los datos finales\n",
        "lista_datos = []\n",
        "\n",
        "# Recorrer el diccionario datos_noticias y convertirlo en la estructura deseada\n",
        "for medio, noticias in datos_noticias.items():\n",
        "    datos_medio = {\n",
        "        medio: [(titular, resumen) for titular, resumen in noticias]\n",
        "    }\n",
        "    lista_datos.append(datos_medio)\n",
        "\n",
        "# Imprimir la lista resultante\n",
        "print(lista_datos)\n"
      ]
    }
  ]
}